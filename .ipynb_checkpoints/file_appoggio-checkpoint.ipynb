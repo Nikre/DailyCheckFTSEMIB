{
 "cells": [
  {
   "cell_type": "markdown",
   "id": "6091fa46",
   "metadata": {},
   "source": [
    "## In questo file vengono testate tutte le parti del software:\n",
    "Il software dovrà generare un _report_ nel quale mostrare quali azioni comprare secondo alcune logiche"
   ]
  },
  {
   "cell_type": "code",
   "execution_count": 11,
   "id": "098eb1db",
   "metadata": {},
   "outputs": [],
   "source": [
    "# Import\n",
    "import pandas as pd\n",
    "import yfinance as yf\n",
    "import matplotlib.pyplot as plt \n",
    "import ta"
   ]
  },
  {
   "cell_type": "code",
   "execution_count": 12,
   "id": "930cb943",
   "metadata": {},
   "outputs": [],
   "source": [
    "# Get all the symbols\n",
    "symbols = pd.read_html('https://it.wikipedia.org/wiki/FTSE_MIB')[4]['Codice alfanumerico']\n",
    "societies = pd.read_html('https://it.wikipedia.org/wiki/FTSE_MIB')[4]['Società']"
   ]
  },
  {
   "cell_type": "code",
   "execution_count": 54,
   "id": "54cf5c4a",
   "metadata": {},
   "outputs": [],
   "source": [
    "# Indicators\n",
    "ema10 = 'EMA 10'\n",
    "ema20 = 'EMA 20'\n",
    "ema20high = 'EMA 20 High'\n",
    "ema20low = 'EMA 20 Low'\n",
    "ema50 = 'EMA 50'\n",
    "ema144 = 'EMA 144'\n",
    "ema200 = 'EMA 200'\n",
    "lbb = 'LBB 2.5 std'\n",
    "rsi = 'RSI 2'"
   ]
  },
  {
   "cell_type": "code",
   "execution_count": 55,
   "id": "335280c6",
   "metadata": {},
   "outputs": [],
   "source": [
    "def add_indicators(df):\n",
    "    df[ema20high] = ta.trend.EMAIndicator(df['High'], window=20).ema_indicator() \n",
    "    df[ema20low] = ta.trend.EMAIndicator(df['Low'], window=20).ema_indicator() \n",
    "    df[ema144] = ta.trend.EMAIndicator(df['Close'], window=144).ema_indicator() \n",
    "    df[ema200] = ta.trend.EMAIndicator(df['Close'], window=200).ema_indicator() \n",
    "    df[lbb] = ta.volatility.BollingerBands(df['Close'], window_dev=2.5).bollinger_lband()\n",
    "    df[rsi] = ta.momentum.RSIIndicator(df['Close'], window=2).rsi()"
   ]
  },
  {
   "cell_type": "code",
   "execution_count": 41,
   "id": "e9c3cf2e",
   "metadata": {},
   "outputs": [],
   "source": [
    "def check_entry_rayReno_bb(symbol, data):\n",
    "    if (data['Close'] < data[lbb]) & (data['Close'] > data[ema200]): \n",
    "        return symbol\n",
    "    return None"
   ]
  },
  {
   "cell_type": "code",
   "execution_count": 56,
   "id": "243fbe36",
   "metadata": {},
   "outputs": [],
   "source": [
    "def check_exit_rayReno_bb(symbol, data):\n",
    "    if (data[rsi] > 50):\n",
    "        return symbol\n",
    "    return None"
   ]
  },
  {
   "cell_type": "code",
   "execution_count": 57,
   "id": "d363f4b3",
   "metadata": {},
   "outputs": [],
   "source": [
    "def check_entry_ioInvesto(symbol, data): \n",
    "    if ((data['Close'] > data[ema20high]) & (data['Close'] > data[ema20low]) & (data['Close'] > data[ema144])):\n",
    "        return symbol\n",
    "    return None"
   ]
  },
  {
   "cell_type": "code",
   "execution_count": 60,
   "id": "440e7ebc",
   "metadata": {},
   "outputs": [],
   "source": [
    "def check_exit_ioInvesto(symbol, data):\n",
    "    if (data['Close'] < data[ema20min]):\n",
    "        return symbol\n",
    "    return None"
   ]
  },
  {
   "cell_type": "code",
   "execution_count": 49,
   "id": "6f037008",
   "metadata": {},
   "outputs": [
    {
     "name": "stdout",
     "output_type": "stream",
     "text": [
      "[*********************100%***********************]  1 of 1 completed\n"
     ]
    }
   ],
   "source": [
    "df = yf.download(symbols[0], period='1y')"
   ]
  },
  {
   "cell_type": "code",
   "execution_count": 50,
   "id": "ca9675dc",
   "metadata": {},
   "outputs": [],
   "source": [
    "add_indicators(df)"
   ]
  },
  {
   "cell_type": "code",
   "execution_count": 37,
   "id": "d751d27b",
   "metadata": {},
   "outputs": [
    {
     "data": {
      "text/plain": [
       "[<matplotlib.lines.Line2D at 0x7f78bcd73910>]"
      ]
     },
     "execution_count": 37,
     "metadata": {},
     "output_type": "execute_result"
    },
    {
     "data": {
      "image/png": "[encoded data removed]",
      "text/plain": [
       "<Figure size 432x288 with 1 Axes>"
      ]
     },
     "metadata": {
      "needs_background": "light"
     },
     "output_type": "display_data"
    }
   ],
   "source": [
    "plt.plot(df['Close'].tail(20))\n",
    "plt.plot(df[ema200].tail(20))\n",
    "plt.plot(df[lbb].tail(20))"
   ]
  },
  {
   "cell_type": "code",
   "execution_count": 51,
   "id": "b1f2f3ae",
   "metadata": {},
   "outputs": [
    {
     "data": {
      "text/html": [
       "<div>\n",
       "<style scoped>\n",
       "    .dataframe tbody tr th:only-of-type {\n",
       "        vertical-align: middle;\n",
       "    }\n",
       "\n",
       "    .dataframe tbody tr th {\n",
       "        vertical-align: top;\n",
       "    }\n",
       "\n",
       "    .dataframe thead th {\n",
       "        text-align: right;\n",
       "    }\n",
       "</style>\n",
       "<table border=\"1\" class=\"dataframe\">\n",
       "  <thead>\n",
       "    <tr style=\"text-align: right;\">\n",
       "      <th></th>\n",
       "      <th>Open</th>\n",
       "      <th>High</th>\n",
       "      <th>Low</th>\n",
       "      <th>Close</th>\n",
       "      <th>Adj Close</th>\n",
       "      <th>Volume</th>\n",
       "      <th>EMA 20 max</th>\n",
       "      <th>EMA 20 min</th>\n",
       "      <th>EMA 144</th>\n",
       "      <th>EMA 200</th>\n",
       "      <th>LBB 2.5 std</th>\n",
       "      <th>RSI 2</th>\n",
       "    </tr>\n",
       "    <tr>\n",
       "      <th>Date</th>\n",
       "      <th></th>\n",
       "      <th></th>\n",
       "      <th></th>\n",
       "      <th></th>\n",
       "      <th></th>\n",
       "      <th></th>\n",
       "      <th></th>\n",
       "      <th></th>\n",
       "      <th></th>\n",
       "      <th></th>\n",
       "      <th></th>\n",
       "      <th></th>\n",
       "    </tr>\n",
       "  </thead>\n",
       "  <tbody>\n",
       "    <tr>\n",
       "      <th>2021-06-10</th>\n",
       "      <td>1.7940</td>\n",
       "      <td>1.8075</td>\n",
       "      <td>1.7575</td>\n",
       "      <td>1.7670</td>\n",
       "      <td>1.671091</td>\n",
       "      <td>12226147</td>\n",
       "      <td>NaN</td>\n",
       "      <td>NaN</td>\n",
       "      <td>NaN</td>\n",
       "      <td>NaN</td>\n",
       "      <td>NaN</td>\n",
       "      <td>NaN</td>\n",
       "    </tr>\n",
       "    <tr>\n",
       "      <th>2021-06-11</th>\n",
       "      <td>1.7775</td>\n",
       "      <td>1.7780</td>\n",
       "      <td>1.7585</td>\n",
       "      <td>1.7660</td>\n",
       "      <td>1.670145</td>\n",
       "      <td>9384276</td>\n",
       "      <td>NaN</td>\n",
       "      <td>NaN</td>\n",
       "      <td>NaN</td>\n",
       "      <td>NaN</td>\n",
       "      <td>NaN</td>\n",
       "      <td>0.000000</td>\n",
       "    </tr>\n",
       "    <tr>\n",
       "      <th>2021-06-14</th>\n",
       "      <td>1.7780</td>\n",
       "      <td>1.7890</td>\n",
       "      <td>1.7675</td>\n",
       "      <td>1.7800</td>\n",
       "      <td>1.683385</td>\n",
       "      <td>10689870</td>\n",
       "      <td>NaN</td>\n",
       "      <td>NaN</td>\n",
       "      <td>NaN</td>\n",
       "      <td>NaN</td>\n",
       "      <td>NaN</td>\n",
       "      <td>96.551951</td>\n",
       "    </tr>\n",
       "    <tr>\n",
       "      <th>2021-06-15</th>\n",
       "      <td>1.7880</td>\n",
       "      <td>1.7940</td>\n",
       "      <td>1.7675</td>\n",
       "      <td>1.7805</td>\n",
       "      <td>1.683858</td>\n",
       "      <td>6919001</td>\n",
       "      <td>NaN</td>\n",
       "      <td>NaN</td>\n",
       "      <td>NaN</td>\n",
       "      <td>NaN</td>\n",
       "      <td>NaN</td>\n",
       "      <td>96.774442</td>\n",
       "    </tr>\n",
       "    <tr>\n",
       "      <th>2021-06-16</th>\n",
       "      <td>1.7800</td>\n",
       "      <td>1.7945</td>\n",
       "      <td>1.7625</td>\n",
       "      <td>1.7915</td>\n",
       "      <td>1.694261</td>\n",
       "      <td>12287035</td>\n",
       "      <td>NaN</td>\n",
       "      <td>NaN</td>\n",
       "      <td>NaN</td>\n",
       "      <td>NaN</td>\n",
       "      <td>NaN</td>\n",
       "      <td>99.159721</td>\n",
       "    </tr>\n",
       "    <tr>\n",
       "      <th>...</th>\n",
       "      <td>...</td>\n",
       "      <td>...</td>\n",
       "      <td>...</td>\n",
       "      <td>...</td>\n",
       "      <td>...</td>\n",
       "      <td>...</td>\n",
       "      <td>...</td>\n",
       "      <td>...</td>\n",
       "      <td>...</td>\n",
       "      <td>...</td>\n",
       "      <td>...</td>\n",
       "      <td>...</td>\n",
       "    </tr>\n",
       "    <tr>\n",
       "      <th>2022-06-06</th>\n",
       "      <td>1.5275</td>\n",
       "      <td>1.5490</td>\n",
       "      <td>1.5215</td>\n",
       "      <td>1.5455</td>\n",
       "      <td>1.545500</td>\n",
       "      <td>4716696</td>\n",
       "      <td>1.609861</td>\n",
       "      <td>1.576029</td>\n",
       "      <td>1.643472</td>\n",
       "      <td>1.665189</td>\n",
       "      <td>1.480778</td>\n",
       "      <td>67.555569</td>\n",
       "    </tr>\n",
       "    <tr>\n",
       "      <th>2022-06-07</th>\n",
       "      <td>1.5445</td>\n",
       "      <td>1.5445</td>\n",
       "      <td>1.5125</td>\n",
       "      <td>1.5220</td>\n",
       "      <td>1.522000</td>\n",
       "      <td>6543253</td>\n",
       "      <td>1.603636</td>\n",
       "      <td>1.569978</td>\n",
       "      <td>1.641797</td>\n",
       "      <td>1.663764</td>\n",
       "      <td>1.467802</td>\n",
       "      <td>33.161402</td>\n",
       "    </tr>\n",
       "    <tr>\n",
       "      <th>2022-06-08</th>\n",
       "      <td>1.5260</td>\n",
       "      <td>1.5270</td>\n",
       "      <td>1.5080</td>\n",
       "      <td>1.5245</td>\n",
       "      <td>1.524500</td>\n",
       "      <td>4727144</td>\n",
       "      <td>1.596338</td>\n",
       "      <td>1.564076</td>\n",
       "      <td>1.640179</td>\n",
       "      <td>1.662378</td>\n",
       "      <td>1.464260</td>\n",
       "      <td>39.694119</td>\n",
       "    </tr>\n",
       "    <tr>\n",
       "      <th>2022-06-09</th>\n",
       "      <td>1.5155</td>\n",
       "      <td>1.5245</td>\n",
       "      <td>1.4755</td>\n",
       "      <td>1.4760</td>\n",
       "      <td>1.476000</td>\n",
       "      <td>8762275</td>\n",
       "      <td>1.589496</td>\n",
       "      <td>1.555640</td>\n",
       "      <td>1.637914</td>\n",
       "      <td>1.660524</td>\n",
       "      <td>1.443321</td>\n",
       "      <td>8.283105</td>\n",
       "    </tr>\n",
       "    <tr>\n",
       "      <th>2022-06-10</th>\n",
       "      <td>1.4700</td>\n",
       "      <td>1.4700</td>\n",
       "      <td>1.3630</td>\n",
       "      <td>1.3790</td>\n",
       "      <td>1.379000</td>\n",
       "      <td>26511105</td>\n",
       "      <td>1.578115</td>\n",
       "      <td>1.537293</td>\n",
       "      <td>1.634343</td>\n",
       "      <td>1.657723</td>\n",
       "      <td>1.393968</td>\n",
       "      <td>1.988596</td>\n",
       "    </tr>\n",
       "  </tbody>\n",
       "</table>\n",
       "<p>258 rows × 12 columns</p>\n",
       "</div>"
      ],
      "text/plain": [
       "              Open    High     Low   Close  Adj Close    Volume  EMA 20 max  \\\n",
       "Date                                                                          \n",
       "2021-06-10  1.7940  1.8075  1.7575  1.7670   1.671091  12226147         NaN   \n",
       "2021-06-11  1.7775  1.7780  1.7585  1.7660   1.670145   9384276         NaN   \n",
       "2021-06-14  1.7780  1.7890  1.7675  1.7800   1.683385  10689870         NaN   \n",
       "2021-06-15  1.7880  1.7940  1.7675  1.7805   1.683858   6919001         NaN   \n",
       "2021-06-16  1.7800  1.7945  1.7625  1.7915   1.694261  12287035         NaN   \n",
       "...            ...     ...     ...     ...        ...       ...         ...   \n",
       "2022-06-06  1.5275  1.5490  1.5215  1.5455   1.545500   4716696    1.609861   \n",
       "2022-06-07  1.5445  1.5445  1.5125  1.5220   1.522000   6543253    1.603636   \n",
       "2022-06-08  1.5260  1.5270  1.5080  1.5245   1.524500   4727144    1.596338   \n",
       "2022-06-09  1.5155  1.5245  1.4755  1.4760   1.476000   8762275    1.589496   \n",
       "2022-06-10  1.4700  1.4700  1.3630  1.3790   1.379000  26511105    1.578115   \n",
       "\n",
       "            EMA 20 min   EMA 144   EMA 200  LBB 2.5 std      RSI 2  \n",
       "Date                                                                \n",
       "2021-06-10         NaN       NaN       NaN          NaN        NaN  \n",
       "2021-06-11         NaN       NaN       NaN          NaN   0.000000  \n",
       "2021-06-14         NaN       NaN       NaN          NaN  96.551951  \n",
       "2021-06-15         NaN       NaN       NaN          NaN  96.774442  \n",
       "2021-06-16         NaN       NaN       NaN          NaN  99.159721  \n",
       "...                ...       ...       ...          ...        ...  \n",
       "2022-06-06    1.576029  1.643472  1.665189     1.480778  67.555569  \n",
       "2022-06-07    1.569978  1.641797  1.663764     1.467802  33.161402  \n",
       "2022-06-08    1.564076  1.640179  1.662378     1.464260  39.694119  \n",
       "2022-06-09    1.555640  1.637914  1.660524     1.443321   8.283105  \n",
       "2022-06-10    1.537293  1.634343  1.657723     1.393968   1.988596  \n",
       "\n",
       "[258 rows x 12 columns]"
      ]
     },
     "execution_count": 51,
     "metadata": {},
     "output_type": "execute_result"
    }
   ],
   "source": [
    "df"
   ]
  },
  {
   "cell_type": "code",
   "execution_count": 38,
   "id": "19871940",
   "metadata": {},
   "outputs": [
    {
     "data": {
      "text/plain": [
       "[<matplotlib.lines.Line2D at 0x7f78bcdcef70>]"
      ]
     },
     "execution_count": 38,
     "metadata": {},
     "output_type": "execute_result"
    },
    {
     "data": {
      "image/png": "[encoded data removed]",
      "text/plain": [
       "<Figure size 432x288 with 1 Axes>"
      ]
     },
     "metadata": {
      "needs_background": "light"
     },
     "output_type": "display_data"
    }
   ],
   "source": [
    "plt.plot(df[rsi].tail(20))"
   ]
  }
 ],
 "metadata": {
  "kernelspec": {
   "display_name": "Python 3 (ipykernel)",
   "language": "python",
   "name": "python3"
  },
  "language_info": {
   "codemirror_mode": {
    "name": "ipython",
    "version": 3
   },
   "file_extension": ".py",
   "mimetype": "text/x-python",
   "name": "python",
   "nbconvert_exporter": "python",
   "pygments_lexer": "ipython3",
   "version": "3.9.5"
  }
 },
 "nbformat": 4,
 "nbformat_minor": 5
}
